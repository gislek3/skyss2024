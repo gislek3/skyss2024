{
 "cells": [
  {
   "cell_type": "code",
   "execution_count": 68,
   "metadata": {},
   "outputs": [],
   "source": [
    "import requests\n",
    "import json\n",
    "import pandas as pd\n",
    "import matplotlib.pyplot as plt\n",
    "import numpy as np\n",
    "import imageio\n",
    "import os"
   ]
  },
  {
   "cell_type": "code",
   "execution_count": 69,
   "metadata": {},
   "outputs": [],
   "source": [
    "url = \"https://trafikkdata-api.atlas.vegvesen.no\""
   ]
  },
  {
   "cell_type": "code",
   "execution_count": 70,
   "metadata": {},
   "outputs": [
    {
     "data": {
      "text/plain": [
       "'\\nSTEP 1: Get traffic point data from Vestlandet county\\n'"
      ]
     },
     "execution_count": 70,
     "metadata": {},
     "output_type": "execute_result"
    }
   ],
   "source": [
    "\"\"\"\n",
    "STEP 1: Get traffic point data from Vestlandet county\n",
    "\"\"\""
   ]
  },
  {
   "cell_type": "code",
   "execution_count": 71,
   "metadata": {},
   "outputs": [],
   "source": [
    "def get_traffic_point(countyNumber: int, roadCategory: str):\n",
    "    query = \"\"\"\n",
    "    query trafficRegistrationPoints($countyNumber: PositiveInt!, $roadCategoryIds: [RoadCategoryId!]!) {\n",
    "      trafficRegistrationPoints(searchQuery: { countyNumbers: [$countyNumber], roadCategoryIds: $roadCategoryIds, isOperational: true, registrationFrequency: CONTINOUS, trafficType: VEHICLE }) {\n",
    "        id\n",
    "        name\n",
    "        location {\n",
    "          coordinates {\n",
    "            latLon {\n",
    "              lat\n",
    "              lon\n",
    "            }\n",
    "          }\n",
    "        }\n",
    "      }\n",
    "    }\n",
    "    \"\"\"\n",
    "\n",
    "    variables = {\n",
    "        \"countyNumber\": countyNumber,\n",
    "        \"roadCategoryIds\": [roadCategory]\n",
    "    }\n",
    "\n",
    "    response = requests.post(url, json={'query': query, 'variables': variables})\n",
    "    return response.json()\n"
   ]
  },
  {
   "cell_type": "code",
   "execution_count": 72,
   "metadata": {},
   "outputs": [],
   "source": [
    "\"\"\"\n",
    "Collect all traffic points of the three major road types for Vestlandet\n",
    "\"\"\"\n",
    "list_of_road_types = [\"R\", \"E\", \"F\"]\n",
    "prepared_data = []\n",
    "\n",
    "for rt in list_of_road_types:\n",
    "    traffic_points = get_traffic_point(46, rt)['data']['trafficRegistrationPoints']\n",
    "    for point in traffic_points:\n",
    "        prepared_data.append({\n",
    "            'id': point['id'],\n",
    "            'name': point['name'],\n",
    "            'latitude': point['location']['coordinates']['latLon']['lat'],\n",
    "            'longitude': point['location']['coordinates']['latLon']['lon'],\n",
    "            'roadtype' : rt\n",
    "        })\n",
    "\n",
    "\n",
    "df = pd.DataFrame(prepared_data)"
   ]
  },
  {
   "cell_type": "code",
   "execution_count": 73,
   "metadata": {},
   "outputs": [],
   "source": [
    "\"\"\"\n",
    "TODO: remove this part, this is just to prune the data to make it faster\n",
    "\n",
    "It removes 85% of the data. I do it at this step because I know that it's formatted properly\n",
    "\"\"\"\n",
    "df = df.sample(frac=0.15, random_state=42)"
   ]
  },
  {
   "cell_type": "code",
   "execution_count": 74,
   "metadata": {},
   "outputs": [
    {
     "name": "stdout",
     "output_type": "stream",
     "text": [
      "               id                          name   latitude  longitude roadtype\n",
      "157  37235B802722     Kristianborgvannet sykkel  60.352833   5.338993        E\n",
      "341  83347V805435                    Indre Arna  60.421439   5.461440        F\n",
      "315  86173V805748                        Torget  60.395323   5.325935        F\n",
      "234  52794V805054                         Bønes  60.328319   5.311050        F\n",
      "155  82885V805617  Fløyfjellstunnelen sørgående  60.389045   5.339588        E\n"
     ]
    }
   ],
   "source": [
    "\"\"\"\n",
    "Step 1 complete: Create a table of this form:\n",
    "             id                               name   latitude  longitude  \\\n",
    "0  97639V384489                         Stigedalen  61.940462   6.137562   \n",
    "1  22326V805039  STORAVATN, RAMPE FRA GODVIK/ASKØY  60.371598   5.214414   \n",
    "2  90500V805707                  Harafjelltunnelen  60.371811   5.210907   \n",
    "3  49965V384062                  Storehaugtunnelen  60.998265   6.543166  \n",
    "\"\"\"\n",
    "\n",
    "print(df.head())\n",
    "\n",
    "df.to_csv('traffic_data_step1.csv', index=False)"
   ]
  },
  {
   "cell_type": "code",
   "execution_count": 75,
   "metadata": {},
   "outputs": [
    {
     "data": {
      "text/plain": [
       "'\\nSTEP 2: Get timed data\\n'"
      ]
     },
     "execution_count": 75,
     "metadata": {},
     "output_type": "execute_result"
    }
   ],
   "source": [
    "\"\"\"\n",
    "STEP 2: Get timed data\n",
    "\"\"\""
   ]
  },
  {
   "cell_type": "code",
   "execution_count": 76,
   "metadata": {},
   "outputs": [],
   "source": [
    "def get_hourly_volume_for_traffic_point(traffic_point_id : str, from_dt : str, to_dt : str):\n",
    "    query = \"\"\"\n",
    "        query trafficData($traffic_point_id: String!, $from_dt: ZonedDateTime!, $to_dt: ZonedDateTime!) {\n",
    "            trafficData(trafficRegistrationPointId: $traffic_point_id) {\n",
    "                volume {\n",
    "                    byHour(from: $from_dt, to: $to_dt) {\n",
    "                       edges {\n",
    "                        node {\n",
    "                            total {\n",
    "                            volumeNumbers {\n",
    "                                volume\n",
    "                            }\n",
    "                            }\n",
    "                        }\n",
    "                        }\n",
    "                    }\n",
    "                    }\n",
    "                }\n",
    "                }\n",
    "    \"\"\"\n",
    "\n",
    "    variables = {\n",
    "        \"from_dt\": from_dt,\n",
    "        \"to_dt\" : to_dt,\n",
    "        \"traffic_point_id\" : traffic_point_id\n",
    "    }\n",
    "\n",
    "    response = requests.post(url, json={'query': query, 'variables': variables})\n",
    "    return response.json()"
   ]
  },
  {
   "cell_type": "code",
   "execution_count": 77,
   "metadata": {},
   "outputs": [],
   "source": [
    "def get_volumes_per_hour(traffic_id : str, from_datetime : str, to_datetime : str, hour_span : int):\n",
    "    volumes = []\n",
    "    data = get_hourly_volume_for_traffic_point(traffic_id, from_datetime, to_datetime)['data']['trafficData']\n",
    "\n",
    "    for hour in range(hour_span):\n",
    "        try:\n",
    "            volume_at_hour = data['volume']['byHour']['edges'][hour]['node']['total']['volumeNumbers']['volume']\n",
    "            volumes.append(volume_at_hour)\n",
    "        except TypeError:\n",
    "            return volumes\n",
    "    return volumes"
   ]
  },
  {
   "cell_type": "code",
   "execution_count": 78,
   "metadata": {},
   "outputs": [],
   "source": [
    "\"\"\"\n",
    "Add the traffic volume for each hour of the day at each traffic stop.\n",
    "\n",
    "This step is very resource-intensive!\n",
    "\"\"\"\n",
    "list_of_all_ids = df['id'].tolist()\n",
    "\n",
    "#Selected range, remains constant for now. It is a 24 hour period from a year ago.\n",
    "from_dt= \"2023-03-19T00:00:00+01:00\"\n",
    "to_dt = \"2023-03-20T00:00:00+01:00\"\n",
    "hour_span = 24 #manual input for now, but COULD be inferred\n",
    "\n",
    "\n",
    "#Initialize columns for hourly data in the DataFrame with default\n",
    "for hour in range(hour_span):\n",
    "    df[f'hour_{hour}'] = 0\n",
    "\n",
    "\n",
    "#Collect volume for each hour of the day\n",
    "for traffic_id in list_of_all_ids:\n",
    "    traffic_volumes_at_point = get_volumes_per_hour(traffic_id, from_dt, to_dt, hour_span)\n",
    "    \n",
    "    if len(traffic_volumes_at_point) == 0:\n",
    "        df = df.drop(df[df['id'] == traffic_id].index)\n",
    "        continue\n",
    "    \n",
    "    for hour in range(hour_span):\n",
    "        df.loc[df['id'] == traffic_id, f'hour_{hour}'] = traffic_volumes_at_point[hour]\n"
   ]
  },
  {
   "cell_type": "code",
   "execution_count": 79,
   "metadata": {},
   "outputs": [
    {
     "name": "stdout",
     "output_type": "stream",
     "text": [
      "               id                          name   latitude  longitude  \\\n",
      "157  37235B802722     Kristianborgvannet sykkel  60.352833   5.338993   \n",
      "341  83347V805435                    Indre Arna  60.421439   5.461440   \n",
      "315  86173V805748                        Torget  60.395323   5.325935   \n",
      "234  52794V805054                         Bønes  60.328319   5.311050   \n",
      "155  82885V805617  Fløyfjellstunnelen sørgående  60.389045   5.339588   \n",
      "\n",
      "    roadtype  hour_0  hour_1  hour_2  hour_3  hour_4  ...  hour_14  hour_15  \\\n",
      "157        E       1       0       0       1       0  ...       12        6   \n",
      "341        F     114      97      63      44      36  ...      530      571   \n",
      "315        F     435     440     432     316     194  ...      532      556   \n",
      "234        F     147     119      79      49      29  ...      875      898   \n",
      "155        E     271     172     125      86      69  ...     2005     1833   \n",
      "\n",
      "     hour_16  hour_17  hour_18  hour_19  hour_20  hour_21  hour_22  hour_23  \n",
      "157        4        3        2        3        1        0        1        1  \n",
      "341      524      491      476      362      301      237      153       81  \n",
      "315      540      473      468      403      389      252      204      113  \n",
      "234      922      845      744      671      461      285      218       96  \n",
      "155     1749     1658     1428     1324     1008      767      884      193  \n",
      "\n",
      "[5 rows x 29 columns]\n"
     ]
    }
   ],
   "source": [
    "\"\"\"\n",
    "STEP 2 complete!\n",
    "\n",
    "Table is now in the form of:\n",
    "id,name,latitude,longitude,roadtype,hour_0,hour_1,hour_2,hour_3,hour_4,hour_5,hour_6,hour_7,hour_8,hour_9,hour_10,hour_11,hour_12,hour_13,hour_14,hour_15,hour_16,hour_17,hour_18,hour_19,hour_20,hour_21,hour_22,hour_23\n",
    "37235B802722,Kristianborgvannet sykkel,60.352833,5.338993,E,1,0,0,1,0,0,2,2,4,2,2,7,6,7,12,6,4,3,2,3,1,0,1,1\n",
    "83347V805435,Indre Arna,60.421439,5.46144,F,114,97,63,44,36,18,48,83,123,123,178,267,392,452,530,571,524,491,476,362,301,237,153,81\n",
    "86173V805748,Torget,60.395323,5.325935,F,435,440,432,316,194,86,63,91,100,143,222,311,447,500,532,556,540,473,468,403,389,252,204,113\n",
    "52794V805054,Bønes,60.328319,5.31105,F,147,119,79,49,29,26,52,101,148,238,443,557,715,842,875,898,922,845,744,671,461,285,218,96\n",
    "\"\"\"\n",
    "\n",
    "\n",
    "# Display the first few rows of the DataFrame to verify format\n",
    "print(df.head())\n",
    "\n",
    "df.to_csv('traffic_data_step2.csv', index=False)"
   ]
  },
  {
   "cell_type": "code",
   "execution_count": 80,
   "metadata": {},
   "outputs": [
    {
     "data": {
      "text/plain": [
       "'\\nSTEP 3: Visualize the data\\n'"
      ]
     },
     "execution_count": 80,
     "metadata": {},
     "output_type": "execute_result"
    }
   ],
   "source": [
    "\"\"\"\n",
    "STEP 3: Visualize the data\n",
    "\"\"\""
   ]
  }
 ],
 "metadata": {
  "kernelspec": {
   "display_name": "Python 3",
   "language": "python",
   "name": "python3"
  },
  "language_info": {
   "codemirror_mode": {
    "name": "ipython",
    "version": 3
   },
   "file_extension": ".py",
   "mimetype": "text/x-python",
   "name": "python",
   "nbconvert_exporter": "python",
   "pygments_lexer": "ipython3",
   "version": "3.10.12"
  }
 },
 "nbformat": 4,
 "nbformat_minor": 2
}
