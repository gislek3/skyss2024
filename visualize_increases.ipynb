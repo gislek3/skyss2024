{
 "cells": [
  {
   "cell_type": "code",
   "execution_count": 214,
   "metadata": {},
   "outputs": [],
   "source": [
    "import requests\n",
    "import json\n",
    "import pandas as pd\n",
    "import matplotlib.pyplot as plt\n",
    "import numpy as np\n",
    "import imageio\n",
    "import os"
   ]
  },
  {
   "cell_type": "code",
   "execution_count": 215,
   "metadata": {},
   "outputs": [],
   "source": [
    "url = \"https://trafikkdata-api.atlas.vegvesen.no\""
   ]
  },
  {
   "cell_type": "code",
   "execution_count": 216,
   "metadata": {},
   "outputs": [
    {
     "data": {
      "text/plain": [
       "'\\nSTEP 1: Get traffic point data from Vestlandet county\\n'"
      ]
     },
     "execution_count": 216,
     "metadata": {},
     "output_type": "execute_result"
    }
   ],
   "source": [
    "\"\"\"\n",
    "STEP 1: Get traffic point data from Vestlandet county\n",
    "\"\"\""
   ]
  },
  {
   "cell_type": "code",
   "execution_count": 217,
   "metadata": {},
   "outputs": [],
   "source": [
    "def get_traffic_point(countyNumber: int, roadCategory: str):\n",
    "    query = \"\"\"\n",
    "    query trafficRegistrationPoints($countyNumber: PositiveInt!, $roadCategoryIds: [RoadCategoryId!]!) {\n",
    "      trafficRegistrationPoints(searchQuery: { countyNumbers: [$countyNumber], roadCategoryIds: $roadCategoryIds, isOperational: true, registrationFrequency: CONTINUOUS, trafficType: VEHICLE }) {\n",
    "        id\n",
    "        name\n",
    "        location {\n",
    "          coordinates {\n",
    "            latLon {\n",
    "              lat\n",
    "              lon\n",
    "            }\n",
    "          }\n",
    "        }\n",
    "      }\n",
    "    }\n",
    "    \"\"\"\n",
    "    \n",
    "    variables = {\n",
    "        \"countyNumber\": countyNumber,\n",
    "        \"roadCategoryIds\": [roadCategory]\n",
    "    }\n",
    "    \n",
    "    return requests.post(url, json={'query': query, 'variables': variables}).json()"
   ]
  },
  {
   "cell_type": "code",
   "execution_count": 218,
   "metadata": {},
   "outputs": [],
   "source": [
    "\"\"\"\n",
    "Collect all traffic points of the three major road types for Vestlandet\n",
    "\"\"\"\n",
    "list_of_road_types = [\"R\", \"E\", \"F\"]\n",
    "prepared_data = []\n",
    "\n",
    "for rt in list_of_road_types:\n",
    "    traffic_points = get_traffic_point(46, rt)['data']['trafficRegistrationPoints']\n",
    "    for point in traffic_points:\n",
    "        prepared_data.append({\n",
    "            'id': point['id'],\n",
    "            'name': point['name'],\n",
    "            'latitude': point['location']['coordinates']['latLon']['lat'],\n",
    "            'longitude': point['location']['coordinates']['latLon']['lon'],\n",
    "            'roadtype' : rt\n",
    "        })\n",
    "\n",
    "\n",
    "df = pd.DataFrame(prepared_data)"
   ]
  },
  {
   "cell_type": "code",
   "execution_count": 219,
   "metadata": {},
   "outputs": [],
   "source": [
    "\"\"\"\n",
    "TODO: remove this part, this is just to prune the data to make it faster\n",
    "\n",
    "It removes 85% of the data. I do it at this step because I know that it's formatted properly\n",
    "\n",
    "TODO: produces an error if you increase the fraction????? \n",
    "\"\"\"\n",
    "df = df.sample(frac=0.15, random_state=42)"
   ]
  },
  {
   "cell_type": "code",
   "execution_count": 220,
   "metadata": {},
   "outputs": [
    {
     "name": "stdout",
     "output_type": "stream",
     "text": [
      "                id                 name   latitude  longitude roadtype\n",
      "231  44953V1885943  Bjørgeveien Straume  60.325105   5.273449        F\n",
      "110   25132V805616  Danmarksplass-Åsane  60.383487   5.335978        E\n",
      "250   65743V805722           Juvik nord  60.426053   5.195758        F\n",
      "9     29614V805708       Sotrabrua vest  60.372083   5.155691        R\n",
      "93    87699V804741            Blindheim  60.469487   5.370048        E\n"
     ]
    }
   ],
   "source": [
    "\"\"\"\n",
    "Step 1 complete: Create a table of this form:\n",
    "             id                               name   latitude  longitude  \\\n",
    "0  97639V384489                         Stigedalen  61.940462   6.137562   \n",
    "1  22326V805039  STORAVATN, RAMPE FRA GODVIK/ASKØY  60.371598   5.214414   \n",
    "2  90500V805707                  Harafjelltunnelen  60.371811   5.210907   \n",
    "3  49965V384062                  Storehaugtunnelen  60.998265   6.543166  \n",
    "\"\"\"\n",
    "\n",
    "print(df.head())\n",
    "\n",
    "df.to_csv('traffic_data_step1.csv', index=False)"
   ]
  },
  {
   "cell_type": "code",
   "execution_count": 221,
   "metadata": {},
   "outputs": [
    {
     "data": {
      "text/plain": [
       "'\\nSTEP 2: Get timed data\\n'"
      ]
     },
     "execution_count": 221,
     "metadata": {},
     "output_type": "execute_result"
    }
   ],
   "source": [
    "\"\"\"\n",
    "STEP 2: Get timed data\n",
    "\"\"\""
   ]
  },
  {
   "cell_type": "code",
   "execution_count": 222,
   "metadata": {},
   "outputs": [],
   "source": [
    "def get_yearly_avarage_for_point(traffic_point_id):\n",
    "    query = \"\"\"\n",
    "    query trafficData($traffic_point_id : String!) {\n",
    "       trafficData(trafficRegistrationPointId: $traffic_point_id) {\n",
    "        volume {\n",
    "          average {\n",
    "            daily {\n",
    "              byYear {\n",
    "                year\n",
    "                total {\n",
    "                  volume {\n",
    "                    average\n",
    "                    confidenceInterval {\n",
    "                      lowerBound\n",
    "                      upperBound\n",
    "                    }\n",
    "                  }\n",
    "                  coverage {\n",
    "                    percentage\n",
    "                  }\n",
    "                }\n",
    "              }\n",
    "            }\n",
    "          }\n",
    "        }\n",
    "      }\n",
    "  }\n",
    "    \"\"\"\n",
    "\n",
    "    variables = {\n",
    "        \"traffic_point_id\" : traffic_point_id\n",
    "    }\n",
    "\n",
    "    response = requests.post(url, json={'query': query, 'variables': variables})\n",
    "    return response.json()"
   ]
  },
  {
   "cell_type": "code",
   "execution_count": 223,
   "metadata": {},
   "outputs": [],
   "source": [
    "\"\"\"\n",
    "Add the traffic volume for each hour of the day at each traffic stop.\n",
    "\n",
    "This step is very resource-intensive!\n",
    "\"\"\"\n",
    "list_of_all_ids = df['id'].tolist()\n",
    "\n",
    "\n",
    "CUT_OFF_YEAR = 2015\n",
    "\n",
    "d = {tid : {} for tid in list_of_all_ids }\n",
    "for traffic_id in list_of_all_ids:\n",
    "    volumes_as_list = get_yearly_avarage_for_point(traffic_id)['data']['trafficData']['volume']['average']['daily']['byYear']\n",
    "    dict_of_volumes_for_traffic_id = {}\n",
    "    for l in volumes_as_list:\n",
    "        if l['year'] >= CUT_OFF_YEAR:\n",
    "            try:\n",
    "                dict_of_volumes_for_traffic_id[l['year']] = l['total']['volume']['average']\n",
    "            except TypeError:\n",
    "                continue\n",
    "    d[traffic_id] = dict_of_volumes_for_traffic_id\n",
    "\n",
    "\n",
    "new_d = {}\n",
    "for k, v in d.items():\n",
    "    first_year = min(v.keys())\n",
    "    if not first_year > CUT_OFF_YEAR:\n",
    "        new_d[k] = d[k]\n",
    "\n",
    "for year in range(CUT_OFF_YEAR, 2023):\n",
    "    df[str(year)] = 0\n",
    "\n",
    "for index, row in df.iterrows():\n",
    "    traffic_id = row['id']\n",
    "    if traffic_id in new_d:\n",
    "        for year in range(CUT_OFF_YEAR, 2023):\n",
    "            if year in new_d[traffic_id]:\n",
    "                df.at[index, str(year)] = new_d[traffic_id][year]\n",
    "                \n"
   ]
  },
  {
   "cell_type": "code",
   "execution_count": 224,
   "metadata": {},
   "outputs": [
    {
     "name": "stdout",
     "output_type": "stream",
     "text": [
      "                id                 name   latitude  longitude roadtype   2015  \\\n",
      "231  44953V1885943  Bjørgeveien Straume  60.325105   5.273449        F  11542   \n",
      "110   25132V805616  Danmarksplass-Åsane  60.383487   5.335978        E      0   \n",
      "250   65743V805722           Juvik nord  60.426053   5.195758        F      0   \n",
      "9     29614V805708       Sotrabrua vest  60.372083   5.155691        R  26899   \n",
      "93    87699V804741            Blindheim  60.469487   5.370048        E  16809   \n",
      "\n",
      "      2016   2017   2018   2019   2020   2021   2022  \n",
      "231  11369  11853  14603  11458  11046  11365  10964  \n",
      "110      0      0      0      0      0      0      0  \n",
      "250      0      0      0      0      0      0      0  \n",
      "9    27151  27663  27796  27941  26198  26922  27457  \n",
      "93   17460  17796  17917  17222  16378  17058  17178  \n"
     ]
    }
   ],
   "source": [
    "\"\"\"\n",
    "STEP 2 complete!\n",
    "\n",
    "Table is now in the form of:\n",
    "id,name,latitude,longitude,roadtype,hour_0,hour_1,hour_2,hour_3,hour_4,hour_5,hour_6,hour_7,hour_8,hour_9,hour_10,hour_11,hour_12,hour_13,hour_14,hour_15,hour_16,hour_17,hour_18,hour_19,hour_20,hour_21,hour_22,hour_23\n",
    "37235B802722,Kristianborgvannet sykkel,60.352833,5.338993,E,1,0,0,1,0,0,2,2,4,2,2,7,6,7,12,6,4,3,2,3,1,0,1,1\n",
    "83347V805435,Indre Arna,60.421439,5.46144,F,114,97,63,44,36,18,48,83,123,123,178,267,392,452,530,571,524,491,476,362,301,237,153,81\n",
    "86173V805748,Torget,60.395323,5.325935,F,435,440,432,316,194,86,63,91,100,143,222,311,447,500,532,556,540,473,468,403,389,252,204,113\n",
    "52794V805054,Bønes,60.328319,5.31105,F,147,119,79,49,29,26,52,101,148,238,443,557,715,842,875,898,922,845,744,671,461,285,218,96\n",
    "\"\"\"\n",
    "\n",
    "\n",
    "# Display the first few rows of the DataFrame to verify format\n",
    "print(df.head())\n",
    "\n",
    "df.to_csv('traffic_data_step2.csv', index=False)"
   ]
  },
  {
   "cell_type": "code",
   "execution_count": 225,
   "metadata": {},
   "outputs": [
    {
     "data": {
      "text/plain": [
       "'\\nSTEP 3: Visualize the data\\n'"
      ]
     },
     "execution_count": 225,
     "metadata": {},
     "output_type": "execute_result"
    }
   ],
   "source": [
    "\"\"\"\n",
    "STEP 3: Visualize the data\n",
    "\"\"\""
   ]
  }
 ],
 "metadata": {
  "kernelspec": {
   "display_name": "Python 3",
   "language": "python",
   "name": "python3"
  },
  "language_info": {
   "codemirror_mode": {
    "name": "ipython",
    "version": 3
   },
   "file_extension": ".py",
   "mimetype": "text/x-python",
   "name": "python",
   "nbconvert_exporter": "python",
   "pygments_lexer": "ipython3",
   "version": "3.10.2"
  }
 },
 "nbformat": 4,
 "nbformat_minor": 2
}
